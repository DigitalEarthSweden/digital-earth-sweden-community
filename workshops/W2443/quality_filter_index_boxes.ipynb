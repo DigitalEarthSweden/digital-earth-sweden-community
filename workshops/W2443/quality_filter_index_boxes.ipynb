{
 "cells": [
  {
   "cell_type": "markdown",
   "id": "404ffb10-ca42-4ad3-a7b4-57c094051487",
   "metadata": {},
   "source": [
    "# Cloud FREE images\n",
    "2024-10-22 daniel.flemstrom@ri.se "
   ]
  },
  {
   "cell_type": "markdown",
   "id": "45429f35-c45e-4fef-b0db-ff2f65e641d6",
   "metadata": {},
   "source": [
    "## Cloud free images using course and fine filtering\n",
    "<span style=\"color:red\">Note that this under construction and is expected to be released during spring 2025</span>"
   ]
  },
  {
   "cell_type": "code",
   "execution_count": 9,
   "id": "de68e385-0bf5-4a3c-8b7d-9ab56618f925",
   "metadata": {
    "scrolled": true
   },
   "outputs": [
    {
     "data": {
      "text/html": [
       "\n",
       "    <script>\n",
       "    if (!window.customElements || !window.customElements.get('openeo-model-builder')) {\n",
       "        var el = document.createElement('script');\n",
       "        el.src = \"https://cdn.jsdelivr.net/npm/@openeo/vue-components@2/assets/openeo.min.js\";\n",
       "        document.head.appendChild(el);\n",
       "\n",
       "        var font = document.createElement('font');\n",
       "        font.as = \"font\";\n",
       "        font.type = \"font/woff2\";\n",
       "        font.crossOrigin = true;\n",
       "        font.href = \"https://use.fontawesome.com/releases/v5.13.0/webfonts/fa-solid-900.woff2\"\n",
       "        document.head.appendChild(font);\n",
       "    }\n",
       "    </script>\n",
       "    <openeo-model-builder>\n",
       "        <script type=\"application/json\">{\"id\": \"60ea876486594d939aff65d81d987a21\", \"explicit-zoom\": true, \"height\": \"400px\", \"value\": {\"process_graph\": {\"loadcollection1\": {\"process_id\": \"load_collection\", \"arguments\": {\"bands\": [\"b01\"], \"id\": \"s2_msi_l2a\", \"spatial_extent\": {\"west\": 13.460930954751282, \"east\": 13.585449709728213, \"south\": 59.36327761288911, \"north\": 59.40107161575003}, \"temporal_extent\": [\"2020-03-01\", \"2020-08-01\"]}}, \"filterquality1\": {\"process_id\": \"filter_quality\", \"arguments\": {\"data\": {\"from_node\": \"loadcollection1\"}, \"filter\": \"sentinel2-scl-quality-coarse\", \"threshold\": 0.8}}, \"filterquality2\": {\"process_id\": \"filter_quality\", \"arguments\": {\"data\": {\"from_node\": \"filterquality1\"}, \"filter\": \"sentinel2-scl-quality-fine\", \"threshold\": 0.99}}, \"ndvi1\": {\"process_id\": \"ndvi\", \"arguments\": {\"data\": {\"from_node\": \"filterquality2\"}}, \"result\": true}}}}</script>\n",
       "    </openeo-model-builder>\n",
       "    "
      ],
      "text/plain": [
       "<openeo.rest.datacube.DataCube at 0x7f63ab172860>"
      ]
     },
     "metadata": {},
     "output_type": "display_data"
    }
   ],
   "source": [
    "from config import eo_service_url,user,passwd\n",
    "from demo_regions import s2\n",
    "import openeo\n",
    "conn = openeo.connect(eo_service_url)\n",
    "conn.authenticate_basic(username=user, password=passwd)\n",
    "#conn.authenticate_oidc()\n",
    "cube = conn.load_collection(\n",
    "    s2.s2_msi_l2a,\n",
    "    bands=[\"b01\"],\n",
    "    spatial_extent=s2.bbox.karlstad_mini_land,\n",
    "    temporal_extent=[\"2020-03-01\", \"2020-08-01\"]\n",
    ")\n",
    "args_course = {'data':cube,'filter':'sentinel2-scl-quality-coarse','threshold':0.8}\n",
    "\n",
    "coarsely_filtered_cube = cube.process(process_id='filter_quality', arguments=args_course)\n",
    "\n",
    "args_fine = {'data':coarsely_filtered_cube,'filter':'sentinel2-scl-quality-fine','threshold':0.99}\n",
    "good_data_cube = coarsely_filtered_cube.process(process_id='filter_quality', arguments=args_fine)\n",
    "\n",
    "# Tail a dummy process just to show how the process flow continues\n",
    "ndvi_cube = good_data_cube.ndvi()\n",
    "display(ndvi_cube)\n",
    " "
   ]
  },
  {
   "cell_type": "markdown",
   "id": "1ccb4cf6-7da4-4466-ad6c-ac223f7856f1",
   "metadata": {},
   "source": [
    "The above is not yet executing in the platform but shows how it is conceptually intended to work.  \n",
    "![Quality Filters](./images/q_filter.png)\n",
    "\n",
    "- `<courier> sentinel2-scl-quality-**coarse** </courier>` checks the grid cells that the geometry overlaps.\n",
    "- `<courier> sentinel2-scl-quality-**fine** </courier>` checks individual pixels within the clipped geometry.\n",
    "\n",
    "The quality is classified the same way in the grid cells and inside the geometry, following the pattern below:\n",
    "\n",
    "<img src=\"./images/q_classing.png\" alt=\"Filter Criteria\" style=\"width:30%;\">\n"
   ]
  }
 ],
 "metadata": {
  "kernelspec": {
   "display_name": "Python 3 (ipykernel)",
   "language": "python",
   "name": "python3"
  },
  "language_info": {
   "codemirror_mode": {
    "name": "ipython",
    "version": 3
   },
   "file_extension": ".py",
   "mimetype": "text/x-python",
   "name": "python",
   "nbconvert_exporter": "python",
   "pygments_lexer": "ipython3",
   "version": "3.10.13"
  }
 },
 "nbformat": 4,
 "nbformat_minor": 5
}
