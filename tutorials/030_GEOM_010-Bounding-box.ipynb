{
 "cells": [
  {
   "cell_type": "markdown",
   "id": "e2bfad87",
   "metadata": {},
   "source": [
    "## Working with WKT, GeoJSON, and Bounding Boxes\n",
    "\n",
    "### Introduction\n",
    "\n",
    "In geospatial analysis, accurately defining geographic boundaries is crucial for effective data retrieval and analysis. Bounding boxes, Well-Known Text (WKT), and GeoJSON are essential concepts used to represent and manipulate these boundaries. Understanding these concepts and how to transform them is vital when working with tools like OpenEO.\n",
    "\n",
    "### Objective\n",
    "\n",
    "The objective of this tutorial is to teach you how to work with bounding boxes, WKT, and GeoJSON formats, and to ensure that these geographic boundaries are compatible with the OpenEO platform. You will learn how to define bounding boxes using online tools, visualize them, and transform their coordinate reference systems (CRS) to ensure compatibility with global geospatial tools.\n",
    "\n",
    "### In this notebook, you will explore the following concepts:\n",
    "\n",
    "- **Bounding Boxes**: Learn how to create and visualize bounding boxes, which are rectangular boundaries that define specific geographic areas of interest.\n",
    "\n",
    "- **WKT (Well-Known Text) and GeoJSON**: Understand how these formats represent geographic data and how to convert them into a bounding box format with defined coordinates (east, west, north, south) for use in OpenEO.\n",
    "\n",
    "- **Coordinate Reference Systems (CRS)**: Explore the importance of using the WGS84 CRS in OpenEO, and learn how to convert bounding boxes from local CRS, like SWEREF 99 TM (EPSG:3006), to WGS84.\n",
    "\n",
    "### Tools You'll Use:\n",
    "\n",
    "- **OpenEO**: To interact with satellite data and perform spatial operations.\n",
    "- **Shapely**: For advanced geometric operations, including transforming coordinates between different CRS.\n",
    "- **GeoPandas**: For managing geospatial data and visualizing bounding boxes.\n",
    "- **Matplotlib**: For visualizing the bounding boxes and results of your analysis.\n",
    "\n",
    "### Learning Outcomes:\n",
    "\n",
    "By the end of this tutorial, you will be able to:\n",
    "\n",
    "- Define and manipulate bounding boxes using WKT and GeoJSON formats.\n",
    "- Convert and ensure that your bounding boxes are in the WGS84 CRS for compatibility with OpenEO.\n",
    "- Visualize bounding boxes to better understand their spatial extent.\n",
    "- Use bounding boxes effectively in OpenEO to query and retrieve geospatial data.\n",
    "\n",
    "### Let's Begin:\n",
    "\n",
    "We'll start by generating bounding boxes using online tools, followed by converting and visualizing them in Python, and finally ensuring that they are correctly formatted and transformed for use in OpenEO.\n"
   ]
  },
  {
   "cell_type": "markdown",
   "id": "728dee74-fb10-4ae9-8047-5ddb21fb01c2",
   "metadata": {},
   "source": [
    "## 1. Generate Bounding Boxes Using Online Tools\n",
    "\n",
    "In this exercise, we'll generate a bounding box for the city of Västerås using the [Bounding Box Tool by KlokanTech](https://boundingbox.klokantech.com/). We'll export the bounding box in both **WKT** and **GeoJSON** formats, and examine the results.\n",
    "\n",
    "### Steps\n",
    "\n",
    "1. **Open the Bounding Box Tool**: Navigate to [Bounding Box Tool by KlokanTech](https://boundingbox.klokantech.com/).\n",
    "   \n",
    "2. **Select Västerås**: Use the map to zoom into Västerås, Sweden. You can find Västerås at approximately these coordinates:\n",
    "   - **Latitude**: 59.6162° N\n",
    "   - **Longitude**: 16.5528° E\n",
    "   \n",
    "3. **Draw the Bounding Box**: Click on the map to draw a bounding box that encapsulates the city. Adjust the box to fit your area of interest around Västerås.\n",
    "\n",
    "4. **Export the Bounding Box**:\n",
    "   - Select **WKT** from the dropdown menu and copy the result.\n",
    "   - Select **GeoJSON** from the dropdown menu and copy the result.\n",
    "\n",
    "### Results\n",
    "\n",
    "Below are the WKT and GeoJSON representations of the bounding box you created for Västerås:\n",
    "\n",
    "#### WKT Format   \n",
    "`POLYGON((16.4677 59.5735, 16.4677 59.6588, 16.6379 59.6588, 16.6379 59.5735, 16.4677 59.5735))`\n",
    "\n",
    "**Explanation**:  \n",
    "The WKT format represents the bounding box as a `POLYGON` with a series of coordinates that define the four corners of the rectangle. In this case, the bounding box starts at the bottom-left corner (longitude 16.4677, latitude 59.5735), moves clockwise around the rectangle, and returns to the starting point to close the polygon.\n",
    "#### GeoJSON Format\n",
    "\n",
    "Below is the GeoJSON representation of the bounding box you created for Västerås:\n",
    "\n",
    "```json\n",
    "{\n",
    "  \"type\": \"Polygon\",\n",
    "  \"coordinates\": [\n",
    "    [\n",
    "      [16.4677, 59.5735],\n",
    "      [16.4677, 59.6588],\n",
    "      [16.6379, 59.6588],\n",
    "      [16.6379, 59.5735],\n",
    "      [16.4677, 59.5735]\n",
    "    ]\n",
    "  ]\n",
    "}"
   ]
  },
  {
   "cell_type": "markdown",
   "id": "b6823216-bf7c-4a29-91a4-60ce58b8eb9f",
   "metadata": {},
   "source": [
    "\n",
    "**Explanation**: \n",
    "The GeoJSON format represents the bounding box as a Polygon object. The coordinates array contains an array of arrays, where each inner array represents a vertex of the polygon, listed in the order they are connected. Similar to WKT, the GeoJSON starts at one corner of the rectangle, moves around the box, and closes the polygon by returning to the starting point.\n",
    "\n",
    "## 2. Understanding the OpenEO Bounding Box Structure\n",
    "\n",
    "In OpenEO, a bounding box can be also be represented using a dictionary structure that defines the four corners of the rectangle:\n",
    "\n",
    "This structure is straightforward, with `east`, `west`, `north`, and `south` representing the bounding limits of the area. The OpenEO API allows you to define bounding boxes either using this dictionary format or as a GeoJSON object.\n",
    "\n",
    "To better understand how these coordinates map to a WKT `POLYGON`, let’s break down the relationship between the OpenEO bounding box and the WKT format.\n",
    "### Example Bounding Box for Västerås\n",
    "bbox = {\n",
    "    'east': 16.6379,\n",
    "    'south': 59.5735,\n",
    "    'west': 16.4677,\n",
    "    'north': 59.6588,\n",
    "}\n",
    "#### Mapping the Bounding Box to WKT\n",
    "\n",
    "The WKT format represents the bounding box as a `POLYGON`, and the coordinates follow this sequence:\n",
    "\n",
    "1. **First Corner**: (`west` (min Long), `south`(min Lat)  )\n",
    "2. **Second Corner**: (`west`(min Long), `north` (max Lat) )\n",
    "3. **Third Corner**: (`east` (max Long), `north` (max Lat) )\n",
    "4. **Fourth Corner**: (`east`(max Long), `south` (min Lat) )\n",
    "5. **Closing the Polygon**: Back to the first corner  (`west` (min Long), `south`(min Lat)  )\n",
    "\n",
    "So, the WKT `POLYGON` would be constructed as:\n",
    "\n",
    "`POLYGON((west south, west north, east north, east south, west south))`\n",
    "\n",
    "Let’s see this in action using the bounding box we defined earlier.\n",
    "\n",
    "\n"
   ]
  },
  {
   "cell_type": "code",
   "execution_count": 17,
   "id": "0fa95219-9239-44d3-afdb-6d0170b771bf",
   "metadata": {},
   "outputs": [
    {
     "name": "stdout",
     "output_type": "stream",
     "text": [
      "POLYGON((16.4677 59.5735, 16.4677 59.6588, 16.6379 59.6588, 16.6379 59.5735, 16.4677 59.5735))\n"
     ]
    }
   ],
   "source": [
    "# Convert the OpenEO Bounding Box to WKT\n",
    "bbox = {\n",
    "    'east': 16.6379,  # max long\n",
    "    'south': 59.5735, # min lat\n",
    "    'west': 16.4677,  # min long\n",
    "    'north': 59.6588, # max lat\n",
    "}\n",
    "wkt = f\"POLYGON(({bbox['west']} {bbox['south']}, {bbox['west']} {bbox['north']}, {bbox['east']} {bbox['north']}, {bbox['east']} {bbox['south']}, {bbox['west']} {bbox['south']}))\"\n",
    "\n",
    "print(wkt)"
   ]
  },
  {
   "cell_type": "markdown",
   "id": "15eb385b-f986-4b4d-a9db-0efc115e5e2b",
   "metadata": {},
   "source": [
    "#### WKT Output Explanation\n",
    "\n",
    "The output WKT representation of the bounding box for Västerås is:\n",
    "\n",
    "`POLYGON((16.4677 59.5735, 16.4677 59.6588, 16.6379 59.6588, 16.6379 59.5735, 16.4677 59.5735))`\n",
    "\n",
    "Here’s how each part corresponds to the bounding box coordinates:\n",
    "- **First Corner**: `(16.4677, 59.5735)` is (`west`, `south`)\n",
    "- **Second Corner**: `(16.4677, 59.6588)` is (`west`, `north`)\n",
    "- **Third Corner**: `(16.6379, 59.6588)` is (`east`, `north`)\n",
    "- **Fourth Corner**: `(16.6379, 59.5735)` is (`east`, `south`)\n",
    "- **Closing the Polygon**: Back to `(16.4677, 59.5735)` to close the polygon\n",
    "\n",
    "This matches the sequence of coordinates in the WKT `POLYGON`, ensuring that the bounding box is accurately represented in both formats.\n"
   ]
  },
  {
   "cell_type": "markdown",
   "id": "37440924-c8e7-44b7-bdef-c15f7c7748de",
   "metadata": {},
   "source": [
    "## 3. Visualizing bounding boxes"
   ]
  },
  {
   "cell_type": "code",
   "execution_count": 11,
   "id": "927b7af7",
   "metadata": {},
   "outputs": [
    {
     "data": {
      "image/png": "[encoded data removed]",
      "text/plain": [
       "<Figure size 800x800 with 1 Axes>"
      ]
     },
     "metadata": {},
     "output_type": "display_data"
    }
   ],
   "source": [
    "import matplotlib.pyplot as plt\n",
    "from shapely.geometry import box\n",
    "import geopandas as gpd\n",
    "\n",
    "# Define the bounding box (using the earlier example for Västerås)\n",
    "bbox = {\n",
    "    'east': 16.6379,  # max long\n",
    "    'south': 59.5735, # min lat\n",
    "    'west': 16.4677,  # min long\n",
    "    'north': 59.6588, # max lat\n",
    "}\n",
    "\n",
    "# Create a Shapely box object from the bounding box coordinates\n",
    "bounding_box = box(bbox['west'], bbox['south'], bbox['east'], bbox['north'])\n",
    "\n",
    "# Create a GeoDataFrame to plot the box\n",
    "gdf = gpd.GeoDataFrame({\"geometry\": [bounding_box]}, crs=\"EPSG:4326\")\n",
    "\n",
    "# Plotting\n",
    "fig, ax = plt.subplots(figsize=(8, 8))\n",
    "gdf.boundary.plot(ax=ax, linewidth=2, color=\"blue\")\n",
    "ax.set_title(\"Bounding Box Visualization\")\n",
    "ax.set_xlabel(\"Longitude\")\n",
    "ax.set_ylabel(\"Latitude\")\n",
    "plt.grid(True)\n",
    "plt.show()\n"
   ]
  },
  {
   "cell_type": "markdown",
   "id": "638d5c88-248f-497f-a2d8-78fd688921e5",
   "metadata": {},
   "source": [
    "## 4. Understanding Coordinate Reference Systems (CRS) and OpenEO\n",
    "\n",
    "When working with geospatial data in OpenEO, it's essential to understand Coordinate Reference Systems (CRS). A CRS defines how the two-dimensional, projected map in your GIS relates to real places on Earth. \n",
    "\n",
    "### Why WGS84 (EPSG:4326) Matters in OpenEO\n",
    "\n",
    "- **WGS84 (EPSG:4326)**: This is the global standard CRS, using latitude and longitude to define locations. OpenEO requires all bounding boxes and spatial queries to be in WGS84. This ensures consistency and compatibility across different datasets and services.\n",
    "- **SWEREF 99 TM (EPSG:3006)**: In Sweden, we often use a local CRS like EPSG:3006 for precise mapping. However, when querying OpenEO, it's crucial to convert these local coordinates into WGS84 to ensure the query is correctly understood.\n",
    "\n",
    "In this section, we'll explore how to handle CRS when working with bounding boxes. We'll define a bounding box in EPSG:3006, transform it to WGS84, and understand how OpenEO interprets these coordinates.\n",
    "### Example 1 Bounding box in SWEREF99 (EPSG:3006)"
   ]
  },
  {
   "cell_type": "code",
   "execution_count": null,
   "id": "65b26219-7c08-49ff-8e9d-99ef602c1e4f",
   "metadata": {},
   "outputs": [],
   "source": [
    "from pyproj import CRS, Transformer\n",
    "\n",
    "# 1. Define the bounding box in EPSG:3006\n",
    "bbox_3006 = {\n",
    "    'west': 582000,  # Example coordinates for Västerås\n",
    "    'south': 6600000,\n",
    "    'east': 587000,\n",
    "    'north': 6605000,\n",
    "}\n",
    "\n",
    "# 2. Create a transformer object for converting EPSG:3006 to EPSG:4326\n",
    "transformer = Transformer.from_crs(CRS.from_epsg(3006), CRS.from_epsg(4326), always_xy=True)\n",
    "\n",
    "# 3. Transform the coordinates\n",
    "west, south = transformer.transform(bbox_3006['west'], bbox_3006['south'])\n",
    "east, north = transformer.transform(bbox_3006['east'], bbox_3006['north'])\n",
    "\n",
    "# 4. Define the bounding box in WGS84\n",
    "bbox_wgs84 = {\n",
    "    'west': west,\n",
    "    'south': south,\n",
    "    'east': east,\n",
    "    'north': north,\n",
    "}\n",
    "\n",
    "print(\"Bounding Box in WGS84:\", bbox_wgs84)\n"
   ]
  },
  {
   "cell_type": "markdown",
   "id": "95bf6f23-633f-481f-8d14-cee1d9365b3b",
   "metadata": {},
   "source": [
    "### Example 2 WKT From e.g Online Tool In SWEREF99 (EPSG:3006)"
   ]
  },
  {
   "cell_type": "code",
   "execution_count": 15,
   "id": "00068171-da72-4dee-a632-bd6eb4d10999",
   "metadata": {},
   "outputs": [
    {
     "name": "stdout",
     "output_type": "stream",
     "text": [
      "WKT Polygon in EPSG:3006: POLYGON((582000 6600000, 582000 6605000, 587000 6605000, 587000 6600000, 582000 6600000))\n",
      "GeoJSON Polygon in WGS84: {'type': 'Polygon', 'coordinates': (((16.449698948642272, 59.53031938852575), (16.451629377958994, 59.575204380195444), (16.540107256525804, 59.57419369956827), (16.53805927601526, 59.529310509301894), (16.449698948642272, 59.53031938852575)),)}\n",
      "Bounding Box in WGS84: {'west': 16.449698948642272, 'south': 59.529310509301894, 'east': 16.540107256525804, 'north': 59.575204380195444}\n"
     ]
    }
   ],
   "source": [
    "from shapely import wkt\n",
    "from shapely.geometry import mapping\n",
    "from shapely.ops import transform\n",
    "from pyproj import CRS, Transformer\n",
    "\n",
    "# 1. Define a WKT polygon in EPSG:3006 (Västerås area)\n",
    "wkt_polygon_3006 = \"POLYGON((582000 6600000, 582000 6605000, 587000 6605000, 587000 6600000, 582000 6600000))\"\n",
    "\n",
    "# 2. Convert the WKT string to a Shapely geometry\n",
    "polygon_3006 = wkt.loads(wkt_polygon_3006)\n",
    "\n",
    "print(\"WKT Polygon in EPSG:3006:\", wkt_polygon_3006)\n",
    "\n",
    "# 3. Create a transformer object for converting EPSG:3006 to EPSG:4326\n",
    "transformer = Transformer.from_crs(CRS.from_epsg(3006), CRS.from_epsg(4326), always_xy=True)\n",
    "\n",
    "# 4. Transform the polygon coordinates\n",
    "polygon_wgs84 = transform(transformer.transform, polygon_3006)\n",
    "\n",
    "# 5. Convert to GeoJSON format\n",
    "geojson_wgs84 = mapping(polygon_wgs84)\n",
    "\n",
    "print(\"GeoJSON Polygon in WGS84:\", geojson_wgs84)\n",
    "\n",
    "# 6. Extract the bounding box from the GeoJSON\n",
    "minx, miny, maxx, maxy = polygon_wgs84.bounds\n",
    "\n",
    "bbox_wgs84 = {\n",
    "    'west': minx,\n",
    "    'south': miny,\n",
    "    'east': maxx,\n",
    "    'north': maxy,\n",
    "}\n",
    "\n",
    "print(\"Bounding Box in WGS84:\", bbox_wgs84)\n"
   ]
  },
  {
   "cell_type": "markdown",
   "id": "4eda5527-bd2d-43ff-8ec7-9e3b0fa9c58e",
   "metadata": {},
   "source": [
    "# Summary: Working with GeoJSON, WKT, and Bounding Boxes\n",
    "\n",
    "In this exercise, we've explored the fundamental aspects of working with GeoJSON, WKT, and bounding boxes in geospatial analysis. Understanding these formats and how to transform them is essential when interacting with OpenEO and other geospatial platforms.\n",
    "\n",
    "#### Key Takeaways:\n",
    "\n",
    "1. **GeoJSON and WGS84**:\n",
    "   - **GeoJSON**: A widely used format for representing geographical features, such as points, lines, and polygons.\n",
    "   - When using tools like the [Bounding Box Tool by KlokanTech](https://boundingbox.klokantech.com/), you can generate GeoJSON for any region of interest. However, it's crucial to ensure that the GeoJSON is in the **WGS84 (EPSG:4326)** coordinate reference system, as this is required by OpenEO for spatial queries.\n",
    "\n",
    "2. **WKT and Transformations**:\n",
    "   - **WKT (Well-Known Text)**: A text markup language for representing vector geometry objects, such as points, lines, and polygons.\n",
    "   - If you have a WKT representation in a local CRS, such as EPSG:3006 (commonly used in Sweden), you must transform it to WGS84. We demonstrated how to do this using Python libraries, converting the WKT to a GeoJSON format and then extracting the bounding box.\n",
    "\n",
    "3. **Using Bounding Boxes in OpenEO**:\n",
    "   - **Bounding Boxes**: A simple way to define spatial extents using four coordinates (east, west, north, south). In OpenEO, bounding boxes must be in the WGS84 CRS.\n",
    "   - We showed how to extract a bounding box from a GeoJSON and how to represent it in the OpenEO-specific format.\n",
    "\n",
    "### Looking Ahead:\n",
    "\n",
    "In the upcoming exercises, you'll apply what you've learned to load data from the Digital Earth Sweden platform using bounding boxes and geometries. You'll see how these spatial definitions help you focus on specific areas of interest, allowing for more efficient and targeted data retrieval.\n",
    "\n",
    "Understanding how to correctly format and transform your spatial data ensures that your queries are accurate and that the data you retrieve matches your intended area of analysis. This foundational knowledge will be crucial as you dive deeper into the capabilities of OpenEO and geospatial analysis.\n"
   ]
  },
  {
   "cell_type": "code",
   "execution_count": null,
   "id": "3719373e-eb81-4c0b-ba9d-c3956d3bc7f8",
   "metadata": {},
   "outputs": [],
   "source": []
  }
 ],
 "metadata": {
  "kernelspec": {
   "display_name": "Python 3 (ipykernel)",
   "language": "python",
   "name": "python3"
  },
  "language_info": {
   "codemirror_mode": {
    "name": "ipython",
    "version": 3
   },
   "file_extension": ".py",
   "mimetype": "text/x-python",
   "name": "python",
   "nbconvert_exporter": "python",
   "pygments_lexer": "ipython3",
   "version": "3.10.13"
  },
  "vscode": {
   "interpreter": {
    "hash": "aee8b7b246df8f9039afb4144a1f6fd8d2ca17a180786b69acc140d282b71a49"
   }
  }
 },
 "nbformat": 4,
 "nbformat_minor": 5
}
