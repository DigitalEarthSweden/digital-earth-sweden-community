{
 "cells": [
  {
   "cell_type": "markdown",
   "id": "49bee3d0-0642-46bc-b2f3-af0f686fdce3",
   "metadata": {},
   "source": [
    "# Welcome to Digital Earth Sweden (DES)\n",
    "\n",
    "To use the Digital Earth Sweden (DES) platform, you must carefully read and agree to the following terms and conditions. After reading, click the confirmation button to proceed.\n",
    "\n",
    "## Service Level Agreement (SLA)\n",
    "\n",
    "DES is provided on an \"as is\" and \"as available\" basis. We do not guarantee any specific level of service performance, availability, or suitability for any particular use.\n",
    "\n",
    "## Users and Passwords\n",
    "\n",
    "In our platform, usernames and passwords (using BASIC AUTH or OIDC) are implemented primarily to segregate resources and enhance user convenience by allowing you to view only your own processes. However, **THEY DO NOT CONSTITUTE A FORM OF SECURITY PROTECTION**. Users should either retain the default password \"secretpassword\" or ensure that they use a unique password not utilized elsewhere. Responsibility for password security and any resultant breaches lies solely with the user.\n",
    "\n",
    "## User Data\n",
    "\n",
    "As a user of DES, you commit to not uploading or sharing any sensitive or confidential information through the service that, if disclosed, could result in harm or damage. The security measures in place do not provide a guarantee against unauthorized access or data breaches.\n",
    "\n",
    "## General Data Protection Regulation (GDPR)\n",
    "\n",
    "DES will retain your email address and records of created processes for quota management and platform enhancement research and testing. Published research findings will be anonymized to ensure no individual user can be identified.\n",
    "\n",
    "## Organizational Administration\n",
    "\n",
    "Each subscribing organization must appoint a designated administrator. This individual's email address will be used for essential communications concerning the organization's account and user activities. While passwords do not serve as a security feature, organizational administrators have the authority to share administrative credentials with any number of affiliates, such as employees or students. However, accountability for user actions and compliance with DES policies ultimately resides with the individual associated with the registered email address.\n",
    "\n",
    "## Limitation of Liability\n",
    "\n",
    "Under no circumstances shall DES or its affiliates be liable for any direct, indirect, incidental, special, consequential, or exemplary damages, including but not limited to damages for loss of profits, goodwill, use, data, or other intangible losses, resulting from:\n",
    "\n",
    "1. The use or the inability to use the service.\n",
    "2. Unauthorized access to or alteration of your transmissions or data.\n",
    "3. Conduct or content of any third party on the service.\n",
    "4. Any other matter relating to the service.\n",
    "\n",
    "The user acknowledges that the provisions of this section apply to all content on the DES platform.\n",
    "\n",
    "Please ensure that all users and organizational administrators are made fully aware of these terms and conditions. By using the DES platform, you agree to abide by these guidelines and accept the associated risks and limitations.\n"
   ]
  },
  {
   "cell_type": "code",
   "execution_count": null,
   "id": "4c56caf0-850e-494e-b7d5-d33793e02ca8",
   "metadata": {},
   "outputs": [],
   "source": []
  }
 ],
 "metadata": {
  "kernelspec": {
   "display_name": "Python 3 (ipykernel)",
   "language": "python",
   "name": "python3"
  },
  "language_info": {
   "codemirror_mode": {
    "name": "ipython",
    "version": 3
   },
   "file_extension": ".py",
   "mimetype": "text/x-python",
   "name": "python",
   "nbconvert_exporter": "python",
   "pygments_lexer": "ipython3",
   "version": "3.10.13"
  }
 },
 "nbformat": 4,
 "nbformat_minor": 5
}
