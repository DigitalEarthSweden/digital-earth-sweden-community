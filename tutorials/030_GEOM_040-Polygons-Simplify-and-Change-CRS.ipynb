{
 "cells": [
  {
   "cell_type": "markdown",
   "id": "0d516c2f-bb78-4821-88ad-449eb60e69ed",
   "metadata": {},
   "source": [
    "# Simplify polygons and Query Load_Collection with different CRSs\n",
    "The `load_collection` process takes a GeoJSON for spatial specification. GeoJSON dropped the possibility to specify crs, so it is always assumed to be WGS84 (EPSG:4326). This means that if we have a geometry or FeatureCollection that is e.g SWEREF99, we need to convert it first. This notebook will show you :\n",
    "\n",
    "1. We load a massive WGS84 Polygon\n",
    "2. We simplify it (to get an answer to compare with)\n",
    "3. We asked chatgpt to translate it, pretending that we had SWEREF99 from the beginning\n",
    "4. We translate the simplified SWEREF99 polygon to WGS84"
   ]
  },
  {
   "cell_type": "code",
   "execution_count": 1,
   "id": "2f0451cf-5f40-420d-a797-cf28a5591582",
   "metadata": {
    "tags": []
   },
   "outputs": [],
   "source": [
    "\n",
    "import json\n",
    "from shapely.geometry import Polygon, mapping\n",
    "from typing import Dict  # This is for typing the GeoJSON which is essentially a dictionary\n",
    "import geopandas as gpd\n",
    "from shapely.geometry import Polygon\n",
    "from icecream import ic\n"
   ]
  },
  {
   "cell_type": "code",
   "execution_count": 2,
   "id": "d83ac2ba-b1a5-4c4d-83f3-e763ccc81f07",
   "metadata": {},
   "outputs": [],
   "source": [
    "\n",
    "import io\n",
    "import numpy as np\n",
    "\n",
    "from shapely.geometry import shape, Polygon\n",
    "\n",
    "import rasterio\n",
    "from rasterio.plot import show\n",
    "import matplotlib.pyplot as plt\n",
    "\n",
    "from pyproj import Transformer\n",
    "\n",
    "plt.rcParams['figure.figsize'] = [20, 10]"
   ]
  },
  {
   "cell_type": "code",
   "execution_count": 3,
   "id": "aea354b9-f131-470a-afab-6ee66133e5b0",
   "metadata": {},
   "outputs": [],
   "source": [
    "\n",
    "def simplify_polygon_on_geometries(geojson: Dict) -> Dict:\n",
    "    # Extract the original polygon from the GeoJSON\n",
    "    assert(len(geojson['features']) ==1) # ITs just a demo so we keep it simple with ONE polygon\n",
    "    \n",
    "    original_polygon = Polygon(geojson['features'][0]['geometry']['coordinates'][0])\n",
    "    tolerance = 0.0001  \n",
    "    simplified_polygon = original_polygon.simplify(tolerance, preserve_topology=True)\n",
    "    simplified_geojson = {\n",
    "        \"type\": \"FeatureCollection\",\n",
    "        \"features\": [\n",
    "            {\n",
    "                \"type\": \"Feature\",\n",
    "                \"properties\": geojson['features'][0]['properties'],\n",
    "                \"id\": geojson['features'][0].get('id', None),  # Use .get() to avoid KeyError if 'id' does not exist\n",
    "                \"geometry\": mapping(simplified_polygon)\n",
    "            }\n",
    "        ]\n",
    "    }\n",
    "    return simplified_geojson\n",
    "\n",
    "\n",
    "def load_geometries(fname: str)->Dict:\n",
    "    with open(fname,'r') as fd:\n",
    "        data = json.loads(fd.read())\n",
    "        return data"
   ]
  },
  {
   "cell_type": "code",
   "execution_count": 4,
   "id": "af98743d-74ea-43b0-9892-ccbc88cbec58",
   "metadata": {},
   "outputs": [
    {
     "ename": "FileNotFoundError",
     "evalue": "[Errno 2] No such file or directory: 'big_geometry.json'",
     "output_type": "error",
     "traceback": [
      "\u001b[0;31m---------------------------------------------------------------------------\u001b[0m",
      "\u001b[0;31mFileNotFoundError\u001b[0m                         Traceback (most recent call last)",
      "Cell \u001b[0;32mIn[4], line 1\u001b[0m\n\u001b[0;32m----> 1\u001b[0m geometries_wgs84 \u001b[38;5;241m=\u001b[39m \u001b[43mload_geometries\u001b[49m\u001b[43m(\u001b[49m\u001b[38;5;124;43m'\u001b[39;49m\u001b[38;5;124;43mbig_geometry.json\u001b[39;49m\u001b[38;5;124;43m'\u001b[39;49m\u001b[43m)\u001b[49m\n\u001b[1;32m      2\u001b[0m simplified_geoms_wgs84 \u001b[38;5;241m=\u001b[39m simplify_polygon_on_geometries(geometries_wgs84)\n\u001b[1;32m      3\u001b[0m \u001b[38;5;66;03m# Let's simplify the polygon\u001b[39;00m\n",
      "Cell \u001b[0;32mIn[3], line 23\u001b[0m, in \u001b[0;36mload_geometries\u001b[0;34m(fname)\u001b[0m\n\u001b[1;32m     22\u001b[0m \u001b[38;5;28;01mdef\u001b[39;00m \u001b[38;5;21mload_geometries\u001b[39m(fname: \u001b[38;5;28mstr\u001b[39m)\u001b[38;5;241m-\u001b[39m\u001b[38;5;241m>\u001b[39mDict:\n\u001b[0;32m---> 23\u001b[0m     \u001b[38;5;28;01mwith\u001b[39;00m \u001b[38;5;28;43mopen\u001b[39;49m\u001b[43m(\u001b[49m\u001b[43mfname\u001b[49m\u001b[43m,\u001b[49m\u001b[38;5;124;43m'\u001b[39;49m\u001b[38;5;124;43mr\u001b[39;49m\u001b[38;5;124;43m'\u001b[39;49m\u001b[43m)\u001b[49m \u001b[38;5;28;01mas\u001b[39;00m fd:\n\u001b[1;32m     24\u001b[0m         data \u001b[38;5;241m=\u001b[39m json\u001b[38;5;241m.\u001b[39mloads(fd\u001b[38;5;241m.\u001b[39mread())\n\u001b[1;32m     25\u001b[0m         \u001b[38;5;28;01mreturn\u001b[39;00m data\n",
      "File \u001b[0;32m~/miniconda3/envs/openeo-training/lib/python3.10/site-packages/IPython/core/interactiveshell.py:324\u001b[0m, in \u001b[0;36m_modified_open\u001b[0;34m(file, *args, **kwargs)\u001b[0m\n\u001b[1;32m    317\u001b[0m \u001b[38;5;28;01mif\u001b[39;00m file \u001b[38;5;129;01min\u001b[39;00m {\u001b[38;5;241m0\u001b[39m, \u001b[38;5;241m1\u001b[39m, \u001b[38;5;241m2\u001b[39m}:\n\u001b[1;32m    318\u001b[0m     \u001b[38;5;28;01mraise\u001b[39;00m \u001b[38;5;167;01mValueError\u001b[39;00m(\n\u001b[1;32m    319\u001b[0m         \u001b[38;5;124mf\u001b[39m\u001b[38;5;124m\"\u001b[39m\u001b[38;5;124mIPython won\u001b[39m\u001b[38;5;124m'\u001b[39m\u001b[38;5;124mt let you open fd=\u001b[39m\u001b[38;5;132;01m{\u001b[39;00mfile\u001b[38;5;132;01m}\u001b[39;00m\u001b[38;5;124m by default \u001b[39m\u001b[38;5;124m\"\u001b[39m\n\u001b[1;32m    320\u001b[0m         \u001b[38;5;124m\"\u001b[39m\u001b[38;5;124mas it is likely to crash IPython. If you know what you are doing, \u001b[39m\u001b[38;5;124m\"\u001b[39m\n\u001b[1;32m    321\u001b[0m         \u001b[38;5;124m\"\u001b[39m\u001b[38;5;124myou can use builtins\u001b[39m\u001b[38;5;124m'\u001b[39m\u001b[38;5;124m open.\u001b[39m\u001b[38;5;124m\"\u001b[39m\n\u001b[1;32m    322\u001b[0m     )\n\u001b[0;32m--> 324\u001b[0m \u001b[38;5;28;01mreturn\u001b[39;00m \u001b[43mio_open\u001b[49m\u001b[43m(\u001b[49m\u001b[43mfile\u001b[49m\u001b[43m,\u001b[49m\u001b[43m \u001b[49m\u001b[38;5;241;43m*\u001b[39;49m\u001b[43margs\u001b[49m\u001b[43m,\u001b[49m\u001b[43m \u001b[49m\u001b[38;5;241;43m*\u001b[39;49m\u001b[38;5;241;43m*\u001b[39;49m\u001b[43mkwargs\u001b[49m\u001b[43m)\u001b[49m\n",
      "\u001b[0;31mFileNotFoundError\u001b[0m: [Errno 2] No such file or directory: 'big_geometry.json'"
     ]
    }
   ],
   "source": [
    "geometries_wgs84 = load_geometries('big_geometry.json')\n",
    "simplified_geoms_wgs84 = simplify_polygon_on_geometries(geometries_wgs84)\n",
    "# Let's simplify the polygon\n",
    "simplified_geoms_wgs84"
   ]
  },
  {
   "cell_type": "markdown",
   "id": "c54c48c3-2b64-4bb4-837c-519975ef055c",
   "metadata": {},
   "source": [
    "Let's pretend that we had above in EPSG:3006 (SWEREF99)"
   ]
  },
  {
   "cell_type": "code",
   "execution_count": 5,
   "id": "eff3372e-5566-4469-849c-89ba841195df",
   "metadata": {},
   "outputs": [
    {
     "name": "stderr",
     "output_type": "stream",
     "text": [
      "ic| gdf_wgs84.to_json(): ('{\"type\": \"FeatureCollection\", \"features\": [{\"id\": \"0\", \"type\": \"Feature\", '\n",
      "                          '\"properties\": {\"avverkningsdatum\": \"2020-06-12\"}, \"geometry\": {\"type\": '\n",
      "                          '\"Polygon\", \"coordinates\": [[[59.9953792447479, 17.66527093077576], '\n",
      "                          '[59.99726841066217, 17.67062992671202], [59.997312464873566, '\n",
      "                          '17.670666536717206], [59.99856259727298, 17.66865618054932], '\n",
      "                          '[59.99835022313639, 17.667887659980725], [59.997932386500345, '\n",
      "                          '17.667531275365477], [59.997740218388984, 17.666682809786483], '\n",
      "                          '[59.997428457491154, 17.667259639988767], [59.99715474568516, '\n",
      "                          '17.66698759509121], [59.997126411476415, 17.666593975117564], '\n",
      "                          '[59.99813339156691, 17.664064888468342], [59.995902003782696, '\n",
      "                          '17.663726653072516], [59.99562495944422, 17.664902578270254], '\n",
      "                          '[59.9953792447479, 17.66527093077576]]]}}]}')\n"
     ]
    },
    {
     "data": {
      "text/plain": [
       "'{\"type\": \"FeatureCollection\", \"features\": [{\"id\": \"0\", \"type\": \"Feature\", \"properties\": {\"avverkningsdatum\": \"2020-06-12\"}, \"geometry\": {\"type\": \"Polygon\", \"coordinates\": [[[59.9953792447479, 17.66527093077576], [59.99726841066217, 17.67062992671202], [59.997312464873566, 17.670666536717206], [59.99856259727298, 17.66865618054932], [59.99835022313639, 17.667887659980725], [59.997932386500345, 17.667531275365477], [59.997740218388984, 17.666682809786483], [59.997428457491154, 17.667259639988767], [59.99715474568516, 17.66698759509121], [59.997126411476415, 17.666593975117564], [59.99813339156691, 17.664064888468342], [59.995902003782696, 17.663726653072516], [59.99562495944422, 17.664902578270254], [59.9953792447479, 17.66527093077576]]]}}]}'"
      ]
     },
     "execution_count": 5,
     "metadata": {},
     "output_type": "execute_result"
    }
   ],
   "source": [
    "# This is what odc expects and what our result should be\n",
    "geoms_wgs84 = {'type': 'FeatureCollection',\n",
    " 'features': [{'type': 'Feature',\n",
    "   'properties': {'avverkningsdatum': '2020-06-12'},\n",
    "   'id': 0,\n",
    "   'geometry': {'type': 'Polygon',\n",
    "    'coordinates': (((17.665270930775755, 59.995379244747966),\n",
    "      (17.67062992671201, 59.99726841066224),\n",
    "      (17.6706665367172, 59.99731246487363),\n",
    "      (17.66865618054931, 59.998562597273036),\n",
    "      (17.667887659980714, 59.998350223136455),\n",
    "      (17.667531275365462, 59.99793238650041),\n",
    "      (17.66668280978647, 59.99774021838905),\n",
    "      (17.667259639988757, 59.99742845749122),\n",
    "      (17.666987595091204, 59.99715474568522),\n",
    "      (17.666593975117546, 59.99712641147649),\n",
    "      (17.664064888468328, 59.998133391566974),\n",
    "      (17.6637266530725, 59.99590200378276),\n",
    "      (17.66490257827024, 59.995624959444285),\n",
    "      (17.665270930775755, 59.995379244747966)),)}}]}\n",
    "# Chatgpt converted to EPSG:3006\n",
    "geoms_sweref99={\n",
    "    'type': 'FeatureCollection',\n",
    "    'features': [\n",
    "        {\n",
    "            'type': 'Feature',\n",
    "            'properties': {'avverkningsdatum': '2020-06-12'},\n",
    "            'id': 0,\n",
    "            'geometry': {\n",
    "                'type': 'Polygon',\n",
    "                'coordinates': [\n",
    "                    [\n",
    "                        (5716940.96041046, 2687980.6815579724),\n",
    "                        (5716966.282993964, 2688828.9467497403),\n",
    "                        (5716970.740445865, 2688836.0488690934),\n",
    "                        (5717230.718230454, 2688600.0323885423),\n",
    "                        (5717235.143966627, 2688480.837941977),\n",
    "                        (5717193.262969286, 2688412.163170612),\n",
    "                        (5717203.96461507, 2688282.344769442),\n",
    "                        (5717135.828371019, 2688352.037997783),\n",
    "                        (5717110.08179383, 2688301.514763763),\n",
    "                        (5717123.412121972, 2688243.8417277983),\n",
    "                        (5717372.634078418, 2687923.1638540244),\n",
    "                        (5717080.455702996, 2687781.0093295793),\n",
    "                        (5716990.882917845, 2687938.13204107),\n",
    "                        (5716940.96041046, 2687980.6815579724)\n",
    "                    ]\n",
    "                ]\n",
    "            }\n",
    "        }\n",
    "    ]\n",
    "}\n",
    "# Converting the in-polygon to WGS84 from SWEREF99\n",
    "\n",
    "gdf_sweref99 = gpd.GeoDataFrame.from_features(geoms_sweref99)\n",
    "gdf_sweref99.set_crs(epsg=3006, inplace=True) # GeoJSON does not have this set anymore\n",
    "gdf_wgs84 = gdf_sweref99.to_crs(epsg=4326)\n",
    "\n",
    "ic(gdf_wgs84.to_json())"
   ]
  },
  {
   "cell_type": "markdown",
   "id": "6026052d-8ee7-47fb-a338-e34dc4efa74c",
   "metadata": {},
   "source": [
    "Now you can use above in e.g load_collection"
   ]
  },
  {
   "cell_type": "code",
   "execution_count": null,
   "id": "14d5c46e-f64c-449c-8189-995a721025a2",
   "metadata": {},
   "outputs": [],
   "source": []
  }
 ],
 "metadata": {
  "kernelspec": {
   "display_name": "Python 3 (ipykernel)",
   "language": "python",
   "name": "python3"
  },
  "language_info": {
   "codemirror_mode": {
    "name": "ipython",
    "version": 3
   },
   "file_extension": ".py",
   "mimetype": "text/x-python",
   "name": "python",
   "nbconvert_exporter": "python",
   "pygments_lexer": "ipython3",
   "version": "3.10.13"
  }
 },
 "nbformat": 4,
 "nbformat_minor": 5
}
