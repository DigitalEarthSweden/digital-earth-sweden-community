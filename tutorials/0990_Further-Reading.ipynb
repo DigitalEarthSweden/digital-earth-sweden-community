{
 "cells": [
  {
   "cell_type": "markdown",
   "id": "a470cc05-02f9-41a9-9de6-4e70171d17f1",
   "metadata": {},
   "source": [
    "# Digital Earth Sweden - Further Reading \n",
    "\n",
    "## Our Services\n",
    "\n",
    "Digital Earth Sweden provides a variety of tools and services to facilitate the use and analysis of satellite data. Below are some key resources and services available:\n",
    "\n",
    "- **General Information**: [Digital Earth Sweden](https://digitalearth.se)\n",
    "- **Map Service**: [Digital Earth Sweden Maps](https://maps.digitalearth.se/)\n",
    "- **Open Data Cube Explorer**: [ODC Explorer](https://explorer.digitalearth.se)\n",
    "- **OpenEO Web Editor**: [OpenEO Editor](https://editor.openeo.org/?server=https%3A%2F%2Fopeneo.digitalearth.se)\n",
    "\n",
    "To log in to the OpenEO Web Editor, select “internal” and enter your username and password in the login window.\n",
    "\n",
    "## Submitting Bug Reports\n",
    "\n",
    "- **Digital-Earth-Sweden-Community**: [Community on Github](https://github.com/DigitalEarthSweden/digital-earth-sweden-community)\n",
    "\n",
    "## Additional Documentation and Resources\n",
    "\n",
    "Expand your knowledge with the following resources:\n",
    "\n",
    "- **OpenEO Python Client Documentation**: [OpenEO Python Client](https://open-eo.github.io/openeo-python-client/index.html)\n",
    "- **Open Data Cube Information**:\n",
    "  - [Open Data Cube](https://www.opendatacube.org)\n",
    "  - [OpenEO Datacubes Documentation](https://openeo.org/documentation/1.0/datacubes.html)\n",
    "  - [DataCube-Core Documentation](https://datacube-core.readthedocs.io/en/latest/)\n",
    "- **OpenEO Processes**: [Process Documentation](https://processes.openeo.org/)\n",
    "- **OpenEO Cloud Information**: [OpenEO Cloud](https://openeo.cloud)\n",
    "- **National Land Cover Data (NMD)**: [Swedish Environmental Protection Agency](https://www.naturvardsverket.se/verktyg-och-tjanster/kartor-och-karttjanster/nationella-marktackedata/)\n",
    "- **Copernicus User Guide**: [Sentinel User Guides](https://sentinels.copernicus.eu/web/sentinel/user-guides)\n",
    "- **Copernicus Data Space**: [Data Space Access](https://dataspace.copernicus.eu/) (Free to sign up)\n",
    "\n",
    "## Additional Notes\n",
    "\n",
    "Regarding the color scale for IR images, it is likely that the displayed image uses an IRG (Infrared, Red, Green) color scheme instead of the standard RGB. For more information, refer to the [Swedish Land Survey's documentation](https://www.lantmateriet.se/sv/geodata/vara-produkter/produktlista/ortofoto-nedladdning/#anchor-1).\n"
   ]
  },
  {
   "cell_type": "code",
   "execution_count": null,
   "id": "edcc2e7b-54f2-46d1-89f1-dda43db8148d",
   "metadata": {},
   "outputs": [],
   "source": []
  }
 ],
 "metadata": {
  "kernelspec": {
   "display_name": "Python 3 (ipykernel)",
   "language": "python",
   "name": "python3"
  },
  "language_info": {
   "codemirror_mode": {
    "name": "ipython",
    "version": 3
   },
   "file_extension": ".py",
   "mimetype": "text/x-python",
   "name": "python",
   "nbconvert_exporter": "python",
   "pygments_lexer": "ipython3",
   "version": "3.10.13"
  }
 },
 "nbformat": 4,
 "nbformat_minor": 5
}
