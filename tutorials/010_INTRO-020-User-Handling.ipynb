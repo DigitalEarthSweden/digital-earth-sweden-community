{
 "cells": [
  {
   "cell_type": "markdown",
   "id": "08c4d203-efd0-4694-b832-818e448bc38e",
   "metadata": {},
   "source": [
    "# Understanding the User Concept in Digital Earth Sweden\n",
    "\n",
    "Digital Earth Sweden offers open access to most of its endpoints, allowing users to explore and utilize satellite data without the need for a personal account. However, when it comes to the OpenEO service, we use a user system to manage and track jobs, store data, and handle other internal operations.\n",
    "\n",
    "### Guest Access\n",
    "\n",
    "As a guest user, you can log in using the following credentials:\n",
    "\n",
    "- **Username**: `testuser`\n",
    "- **Password**: *(Defined in the accompanying notebooks)*\n",
    "\n",
    "> **Important**: As a guest user, please be aware that everyone has access to the information you send to the backend. This means that any data, jobs, or results you create can be viewed and modified by others. It is crucial to understand this limitation before proceeding with any significant work.\n",
    "\n",
    "### Registering for a Personal Account\n",
    "\n",
    "If you wish to continue using Digital Earth Sweden and need your own secure environment, you should register for a personal account. With a personal account, your data, jobs, and results will be private and accessible only to you.\n",
    "\n",
    "- **[Registration Link]**: (Link will be added here)\n",
    "\n",
    "Once registered, you will have access to your own user, allowing you to securely manage your work within the OpenEO platform.\n"
   ]
  },
  {
   "cell_type": "code",
   "execution_count": null,
   "id": "781d9c1b-4d3a-4de2-83b2-9246507c6416",
   "metadata": {},
   "outputs": [],
   "source": []
  }
 ],
 "metadata": {
  "kernelspec": {
   "display_name": "Python 3 (ipykernel)",
   "language": "python",
   "name": "python3"
  },
  "language_info": {
   "codemirror_mode": {
    "name": "ipython",
    "version": 3
   },
   "file_extension": ".py",
   "mimetype": "text/x-python",
   "name": "python",
   "nbconvert_exporter": "python",
   "pygments_lexer": "ipython3",
   "version": "3.10.13"
  }
 },
 "nbformat": 4,
 "nbformat_minor": 5
}
