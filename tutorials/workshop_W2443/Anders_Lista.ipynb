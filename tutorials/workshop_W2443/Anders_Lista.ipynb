{
 "cells": [
  {
   "cell_type": "markdown",
   "id": "15a207b4-cfb1-4073-8a25-b73bc0f331b8",
   "metadata": {},
   "source": [
    "# Anders Lista"
   ]
  },
  {
   "cell_type": "markdown",
   "id": "fd24e1a9-8fb8-4515-8601-0ac6b6d5af2c",
   "metadata": {},
   "source": [
    "- Skapa en notebook som jämför medianvärden i levele 1C och level 2A för en serie polygon\n",
    "\n",
    "  -  <p style=\"color:red\">På grund av ett \"känt\" fel fungerar inte spatial aggregate med median för närvarande men vi har ett Jira-Kort på det.</p>\n",
    "    \n",
    "- Kontraststräcka data för vanliga bandkombinationer som vi använder på SKS (Skogsstyrelsen). Som input använder vi histogram information från de band vi vill använda och sedan applicerar vi en gamma-funktion där vi sätter gamma värdet till 1.3 (i de flesta fall). Sedan använder vi den framtagna sträckningen på allt data oberoende av när bilden är tagen. Alltså inte en dynamisk uppdatering beroende på hur bilden ser ut.\n",
    "\n",
    "    - **PASS** <p style=\"color:red\">Det här behöver vi gräva mer i för att kunna ge ett vettigt svar.</p>\n",
    "  \n",
    "- Jämföra gamla data (före 2022) där ESA gjort uppdateringen till baseline 5.0. Jämföra geometrier med gammalt data (som vi har). Jämföra scl-lagret och hur det ser ut jämfört det gamla\n",
    "        \n",
    "    -  <p style=\"color:green\">När vi har baseline som property i stac filerna så kommer man kunna filtrera på det, givet att gammal baseline finns hos oss. Det finns möjlighet i OpenEO konceptet att både ladda upp egen data och att ladda bilder direkt från exern lagring (måste läggas till dock) </p>\n",
    "       \n",
    "       --> [Generellt om Jämförelse](../040_VIZ_030-Difference-Analysis.ipynb)\n",
    "    \n",
    "- Hur gör vi request där ett visst datum ska väljas ut, men sedan vill vi samtidigt bara visa de pixlar som motsvarar ett visst kriterie (t.ex. pixelvärden större än x)\n",
    "\n",
    "    -  <p style=\"color:green\">Ladda bilden. Gör en binär mask (alla pixlar > x). Applicera masken på bilden.</p>\n",
    "     \n",
    "       --> [Masking Data](../060_EO_010-Masking-data.ipynb)\n",
    "\n",
    "  \n",
    "- Kan vi konsumera data från DES med REST-anrop?\n",
    "\n",
    "    -  <p style=\"color:green\"> JA   OpenEO är ett REST Api så det går alldeles utmärkt. Både in och ut. Dock är det troligen enklare att använda klienten och sätta debugflaggan för request libbet och på så sätt stjäla REST Requestsen so går mellan OpenEO API och klienten. </p>\n",
    "    \n",
    "- Hur funkar integrationen mot STAC i openEO där vi vill läsa mosaiker av granuler från DES från ett visst datum. Har vi bara access till enskilda granuler?\n",
    "\n",
    "    -  <p style=\"color:green\">NEJ, OpenEO tar en geometri (polygon / multipolygon) och klipper ut en fyrkant och sen geometri(erna). Man anger alltid ett tidsspann men man kan ta den första eller sista bilden i tidsspannet.</p> \n",
    "\n",
    "\n",
    "       --> [Kolla Understanding Property Filtering in Satellite Data Processing](../020_DATA_020-Property_Filtering.ipynb)\n",
    "  \n",
    "- Hur hanteras olika band där data har lika pixelstorlek? t.ex. bandkombinationer där både 10 m och 20 m band ingår + SCL (som är 20 meter)?\n",
    "\n",
    "    -  <p style=\"color:green\">Den konceptuella lösningen är att ladda en datakub med de band som har upplösning 1, ladda en annan med de band som har upplösning 2. Interpolera en av dom och slå sedan ihop till en kub. Vi håller på att implentera processerna för detta men ni kan se principen här:</p>\n",
    "    \n",
    "       --> [Working with resolutions](./30-Resampling-Bands.ipynb)\n",
    "    \n",
    "- Finns det hos DES något som liknar Skogsstyrelsens databas med information för varje 5km ruta där ett histogram lagras över hur många pixlar det finns för varje klass i SCL-bandet? Från det lagret kan man sedan göra utsökningar om bästa datum för en molnfri bild inom en viss tidsperiod\n",
    "\n",
    "    -  <p style=\"color:green\">Vi har påbörjat en del arbete med detta. Nedanstående är en \"work in progress bild\" av det. <img src=\"https://lucid.app/publicSegments/view/137c8631-287b-41bd-b0f2-a1a67c6cbed9/image.png\" alt=\"Quality Filtering\" style=\"width:80%;\">\n",
    "     <br> Vi har också följande interna python APIer:  \n",
    "        <list><li><p style=\"color:green\">SKS service</p></li>\n",
    "        <li> <p style=\"color:green\">vår egen variant av den ( Kvalitetsindex med histogram för tillräckt molnfria indexrutor)</p></li>\n",
    "        <li><p style=\"color:green\">index5km tiles</p></li>\n",
    "        <li><p style=\"color:green\">sentinel2 tiles</p></li>\n",
    "  <p style=\"color:green\">Typisk funktion är (den ursprungliga) eller fråga efter en geometri och få en lista av överlappande tiles / geometrier tillbaka. Eller bara söka på namn.</p>\n",
    " <br> --> [Quality Filtering](./quality_filter_index_boxes.ipynb)\n",
    " <br> --> [Externa API:er](./python_and_other_APIs.ipynb)</p>\n",
    "    "
   ]
  }
 ],
 "metadata": {
  "kernelspec": {
   "display_name": "Python 3 (ipykernel)",
   "language": "python",
   "name": "python3"
  },
  "language_info": {
   "codemirror_mode": {
    "name": "ipython",
    "version": 3
   },
   "file_extension": ".py",
   "mimetype": "text/x-python",
   "name": "python",
   "nbconvert_exporter": "python",
   "pygments_lexer": "ipython3",
   "version": "3.10.13"
  }
 },
 "nbformat": 4,
 "nbformat_minor": 5
}
