{
 "cells": [
  {
   "cell_type": "markdown",
   "id": "404ffb10-ca42-4ad3-a7b4-57c094051487",
   "metadata": {},
   "source": [
    "# Workshop Preparations\n",
    "2024-10-21 daniel.flemstrom@ri.se , nuria.agues.paszkowsky@ri.se\n"
   ]
  },
  {
   "cell_type": "markdown",
   "id": "224b8e92-3248-45d9-9c68-a6a4a8c83454",
   "metadata": {},
   "source": [
    "# Skicka en geometri och få tillbaka saker:\n",
    "- en tidsserie med medelvärden **(över en geometri?)**, \n",
    "- en bild att titta på **(TCI (RGB image))**,\n",
    "- alla banddata, **(Blir lite knepigt, måste läsa en kub per upplösning)**\n",
    "- ndvi-värden **(använd ndvi processen från tutorial)**\n",
    "- molnmaskerad bild, **(SCL maskerad, hitta tutorial)***\n",
    "- skugg%,  **( SCL, vilken flagga )**\n",
    "- moln%,  **(SCL samma flagga som molnmask)**\n",
    "\n",
    "Dema vår quality index på nåt sätt ??? "
   ]
  },
  {
   "cell_type": "markdown",
   "id": "f766c8fa-5d24-49d7-855e-f6490575a756",
   "metadata": {},
   "source": [
    "# Antal pixlar med vegetation (Daniel)"
   ]
  },
  {
   "cell_type": "markdown",
   "id": "45429f35-c45e-4fef-b0db-ff2f65e641d6",
   "metadata": {},
   "source": [
    "# Bild med moln, bild utan moln\n",
    "Här har vi tänkt att använda filter_quality, filter fine_quality (Se notebook) <br>\n",
    "--> [filtering](./quality_filter_index_boxes.ipynb)\n"
   ]
  },
  {
   "cell_type": "markdown",
   "id": "e0915a58-bf69-4eb3-a3c1-3a54fe9ff4a4",
   "metadata": {},
   "source": [
    "# Ladda data från andra myndigheter\n",
    "Här har vi ett exempel där vi visar SKS Histogramdata, dock från klienten <br>\n",
    "--> [SKS Histogram Service](./python_and_other_APIs.ipynb)"
   ]
  },
  {
   "cell_type": "markdown",
   "id": "f506ebdc-5c29-4805-a225-7405945c2830",
   "metadata": {},
   "source": [
    "- Interpolera direkt i bilderna, applicera ”curnals” (beräkningsrutor)\n",
    "kernels????, menas indexrutorna ??? (Skrivit till Viktoria)\n",
    "Interpolera direkt i bilderna är jag lite osäker på. Det var nog Niklas som nämnde det. Kernels innebär här att man kör en beräkningsruta ovanpå ett raster. T.ex. en 3x3 ruta som räknar mittenpixel beroende på de närmaste runt omkring. Kan ju ibland kallas window operations: \n",
    " \n",
    "Mycket användbart när man ska processera vissa typer av data, speciellt radardata. Mycket då för att den är så \"noisy\"."
   ]
  },
  {
   "cell_type": "markdown",
   "id": "b87f5945-4dbe-48cc-b60a-378f779066d9",
   "metadata": {},
   "source": [
    "# Applicera något känt som tex är gjort på höjdmodellen, på något annat\n",
    "- läsa in höjdmodell (kan vi ju inte göra, den måste göras produkt, stac_item.json och indexeras)\n",
    "\n"
   ]
  },
  {
   "cell_type": "code",
   "execution_count": null,
   "id": "6435e942-8477-4f57-8a75-2bf0482f26b4",
   "metadata": {},
   "outputs": [],
   "source": []
  },
  {
   "cell_type": "code",
   "execution_count": null,
   "id": "4c14c9c5-7d9c-4cd9-9da4-7b61440d7f62",
   "metadata": {},
   "outputs": [],
   "source": []
  },
  {
   "cell_type": "code",
   "execution_count": null,
   "id": "21c79422-e51e-488a-aab2-3562b58350c5",
   "metadata": {},
   "outputs": [],
   "source": []
  },
  {
   "cell_type": "code",
   "execution_count": null,
   "id": "d91c1cce-a12c-49cf-98ae-8fffaadccacf",
   "metadata": {},
   "outputs": [],
   "source": [
    "ladda nmd och gör något. \n",
    "ladda flera bilder (man måste ha datum då se valentinas error report på dask processes). "
   ]
  }
 ],
 "metadata": {
  "kernelspec": {
   "display_name": "Python 3 (ipykernel)",
   "language": "python",
   "name": "python3"
  },
  "language_info": {
   "codemirror_mode": {
    "name": "ipython",
    "version": 3
   },
   "file_extension": ".py",
   "mimetype": "text/x-python",
   "name": "python",
   "nbconvert_exporter": "python",
   "pygments_lexer": "ipython3",
   "version": "3.10.13"
  }
 },
 "nbformat": 4,
 "nbformat_minor": 5
}
