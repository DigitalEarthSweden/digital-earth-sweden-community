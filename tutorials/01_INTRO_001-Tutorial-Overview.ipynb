{
 "cells": [
  {
   "cell_type": "markdown",
   "id": "364b0d76-7b3b-44ff-bf0c-60ee92008982",
   "metadata": {},
   "source": [
    "# Course Overview\n",
    "This tutorial provides an introduction to working with Earth Observation (EO) data, focusing on using advanced geospatial tools and datacube structures to analyze satellite imagery. You’ll learn how to manage complex geometries, perform image differencing, and apply vegetation indices like NDVI to understand environmental changes. The course also covers how to manipulate spatial filters and masks for enhanced analysis, as well as techniques for visualizing EO data.\n",
    "\n",
    "# Course Objectives\n",
    "- Find and load relevant EO data for analysis.\n",
    "- Work with multi-dimensional data structures (datacubes).\n",
    "- Explore the fundamentals of automated EO analysis.\n",
    "- Gain a deeper understanding of processing EO data with geospatial tools.\n",
    "\n",
    "# Target Group\n",
    "This course is designed for:\n",
    "- Individuals curious about working with Earth Observation data in a practical way.\n",
    "- Experienced EO analysts looking to learn a new platform for working with EO data.\n",
    "- Anyone exploring the possibilities of automating EO data processing and analysis with programming tools.\n",
    "\n",
    "\n",
    "# Prerequisites\n",
    "To get the most out of this course, you should have:\n",
    "- **Basic Programming Knowledge**: [Python Basics](https://www.python.org/)\n",
    "- **Understanding of Earth Observation**: [Introduction to EO](https://sentinels.copernicus.eu/web/sentinel/user-guides)\n",
    "- **Familiarity with Open Data Cube**: [Open Data Cube Overview](https://openeo.org/documentation/1.0/datacubes.html)\n",
    "# Desktop Companions \n",
    "- **OpenEO Client Documentation** [OpenEO Client](https://open-eo.github.io/openeo-python-client)\n",
    "# Key Learning Outcomes\n",
    "\n",
    "- **Multidimensional Data Manipulation**: Explore how to work with datacubes, which organize Earth Observation (EO) data along spatial, temporal, and spectral dimensions for comprehensive analysis.\n",
    "  \n",
    "- **Geospatial Boundaries**: Learn to define, transform, and manipulate geographic boundaries using bounding boxes, WKT, and GeoJSON formats, ensuring compatibility with global geospatial systems.\n",
    "  \n",
    "- **Handling Complex Geometries**: Understand how to work with advanced polygon structures, including multipolygons and polygons with holes, to accurately represent and analyze complex geographic regions.\n",
    "  \n",
    "- **Pixel Analysis**: Calculate areas and assess the validity of pixel data (e.g., cloud cover or land type) within defined regions, essential for accurate environmental monitoring and change detection.\n",
    "  \n",
    "- **Data Visualization**: Visualize and interpret Sentinel-2 satellite imagery by creating true-color (RGB) and NIR-GB images, useful for assessing vegetation health and land cover changes.\n",
    "  \n",
    "- **Change Detection**: Use temporal or spectral analysis to detect and quantify differences between satellite images captured at different times, crucial for tracking environmental changes like deforestation or urbanization.\n",
    "  \n",
    "- **Advanced Data Processing**: Apply advanced EO metrics such as NDVI and perform band math using Python operators to extract meaningful insights from satellite data.\n",
    "  \n",
    "- **Masking and Spatial Filtering**: Use masking techniques to filter out unwanted data (e.g., clouds) and apply spatial filtering to enhance image features, such as smoothing noise or detecting edges.\n"
   ]
  },
  {
   "cell_type": "markdown",
   "id": "ae345a64",
   "metadata": {},
   "source": [
    "#"
   ]
  }
 ],
 "metadata": {
  "kernelspec": {
   "display_name": "Python 3 (ipykernel)",
   "language": "python",
   "name": "python3"
  },
  "language_info": {
   "codemirror_mode": {
    "name": "ipython",
    "version": 3
   },
   "file_extension": ".py",
   "mimetype": "text/x-python",
   "name": "python",
   "nbconvert_exporter": "python",
   "pygments_lexer": "ipython3",
   "version": "3.10.13"
  }
 },
 "nbformat": 4,
 "nbformat_minor": 5
}
